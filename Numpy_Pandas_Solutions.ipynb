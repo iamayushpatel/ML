{
  "cells": [
    {
      "cell_type": "markdown",
      "id": "7f3f58d7",
      "metadata": {
        "id": "7f3f58d7"
      },
      "source": [
        "# Solutions to Exercises"
      ]
    },
    {
      "cell_type": "markdown",
      "id": "5757a9de",
      "metadata": {
        "id": "5757a9de"
      },
      "source": [
        "## NumPy Solutions"
      ]
    },
    {
      "cell_type": "code",
      "execution_count": null,
      "id": "5e0f54a8",
      "metadata": {
        "id": "5e0f54a8"
      },
      "outputs": [],
      "source": [
        "import numpy as np\n",
        "\n",
        "arr = np.random.randint(1, 11, size=(3, 3))\n",
        "arr"
      ]
    },
    {
      "cell_type": "code",
      "execution_count": null,
      "id": "bc4230f4",
      "metadata": {
        "id": "bc4230f4"
      },
      "outputs": [],
      "source": [
        "arr = np.arange(12).reshape(3, 4)\n",
        "arr"
      ]
    },
    {
      "cell_type": "code",
      "execution_count": null,
      "id": "e10e7be8",
      "metadata": {
        "id": "e10e7be8"
      },
      "outputs": [],
      "source": [
        "arr = np.array([1, 2, 3, 4, 5, 6])\n",
        "arr.mean(), arr.sum(), arr.std()"
      ]
    },
    {
      "cell_type": "code",
      "execution_count": null,
      "id": "b850dc4b",
      "metadata": {
        "id": "b850dc4b"
      },
      "outputs": [],
      "source": [
        "arr = np.array([1, 6, 3, 8, 5])\n",
        "np.where(arr > 5)"
      ]
    },
    {
      "cell_type": "code",
      "execution_count": null,
      "id": "8fad7528",
      "metadata": {
        "id": "8fad7528"
      },
      "outputs": [],
      "source": [
        "A = np.array([[1, 2], [3, 4]])\n",
        "B = np.array([[5, 6], [7, 8]])\n",
        "np.dot(A, B)"
      ]
    },
    {
      "cell_type": "markdown",
      "id": "2404afc3",
      "metadata": {
        "id": "2404afc3"
      },
      "source": [
        "## Pandas Solutions"
      ]
    },
    {
      "cell_type": "code",
      "execution_count": null,
      "id": "18612a6c",
      "metadata": {
        "id": "18612a6c"
      },
      "outputs": [],
      "source": [
        "import pandas as pd\n",
        "\n",
        "df = pd.read_csv('data.csv')\n",
        "df.head()"
      ]
    },
    {
      "cell_type": "code",
      "execution_count": null,
      "id": "11fa1df5",
      "metadata": {
        "id": "11fa1df5"
      },
      "outputs": [],
      "source": [
        "df.sort_values('column_name', ascending=False)"
      ]
    },
    {
      "cell_type": "code",
      "execution_count": null,
      "id": "5cffbf0f",
      "metadata": {
        "id": "5cffbf0f"
      },
      "outputs": [],
      "source": [
        "df.groupby('group_column').mean()"
      ]
    },
    {
      "cell_type": "code",
      "execution_count": null,
      "id": "136d9123",
      "metadata": {
        "id": "136d9123"
      },
      "outputs": [],
      "source": [
        "df.dropna()"
      ]
    },
    {
      "cell_type": "code",
      "execution_count": null,
      "id": "37495608",
      "metadata": {
        "id": "37495608"
      },
      "outputs": [],
      "source": [
        "df1.merge(df2, on='common_column')"
      ]
    }
  ],
  "metadata": {
    "colab": {
      "provenance": []
    }
  },
  "nbformat": 4,
  "nbformat_minor": 5
}