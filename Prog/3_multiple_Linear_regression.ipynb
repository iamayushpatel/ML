{
  "cells": [
    {
      "cell_type": "code",
      "execution_count": null,
      "id": "SSBE1wHzXCA8",
      "metadata": {
        "colab": {
          "base_uri": "https://localhost:8080/"
        },
        "id": "SSBE1wHzXCA8",
        "outputId": "6afd51da-99df-45f1-83dd-51099a309dee"
      },
      "outputs": [],
      "source": [
        "from google.colab import drive\n",
        "drive.mount('/content/drive')"
      ]
    },
    {
      "cell_type": "code",
      "execution_count": 2,
      "id": "wjjEQVy_XDpz",
      "metadata": {
        "id": "wjjEQVy_XDpz"
      },
      "outputs": [],
      "source": [
        "import os\n",
        "os.chdir(\"/content/drive/My Drive/ML Practicals/data/\")"
      ]
    },
    {
      "cell_type": "code",
      "execution_count": 3,
      "id": "fiscal-ocean",
      "metadata": {
        "id": "fiscal-ocean"
      },
      "outputs": [],
      "source": [
        "import pandas as pd\n",
        "import numpy as np\n",
        "from sklearn import linear_model"
      ]
    },
    {
      "cell_type": "code",
      "execution_count": null,
      "id": "norwegian-indicator",
      "metadata": {
        "colab": {
          "base_uri": "https://localhost:8080/",
          "height": 238
        },
        "id": "norwegian-indicator",
        "outputId": "ed5a4a4c-37f5-4d7c-f7d7-c0770e873d1e"
      },
      "outputs": [],
      "source": [
        "data= pd.read_csv(\"homeprices.csv\")\n",
        "data"
      ]
    },
    {
      "cell_type": "code",
      "execution_count": 13,
      "id": "level-details",
      "metadata": {
        "id": "level-details"
      },
      "outputs": [],
      "source": [
        "data.bedrooms= data.bedrooms.fillna(data.bedrooms.mean())"
      ]
    },
    {
      "cell_type": "code",
      "execution_count": null,
      "id": "tropical-backup",
      "metadata": {
        "colab": {
          "base_uri": "https://localhost:8080/",
          "height": 238
        },
        "id": "tropical-backup",
        "outputId": "27e71b9a-8989-4b12-bc44-52033924e1e1"
      },
      "outputs": [],
      "source": [
        "data"
      ]
    },
    {
      "cell_type": "code",
      "execution_count": null,
      "id": "alternative-ranking",
      "metadata": {
        "colab": {
          "base_uri": "https://localhost:8080/",
          "height": 75
        },
        "id": "alternative-ranking",
        "outputId": "29d996ce-9cad-46a6-98e4-4c675e014711"
      },
      "outputs": [],
      "source": [
        "mymodel = linear_model.LinearRegression()\n",
        "#fit(X,y)\n",
        "mymodel.fit(data[[\"area\",\"bedrooms\",\"age\"]] , data.price)"
      ]
    },
    {
      "cell_type": "code",
      "execution_count": null,
      "id": "original-sharing",
      "metadata": {
        "colab": {
          "base_uri": "https://localhost:8080/"
        },
        "id": "original-sharing",
        "outputId": "7c53f600-d1b4-4113-accc-ea4c3ea62a45"
      },
      "outputs": [],
      "source": [
        "mymodel.coef_"
      ]
    },
    {
      "cell_type": "code",
      "execution_count": null,
      "id": "casual-florida",
      "metadata": {
        "colab": {
          "base_uri": "https://localhost:8080/"
        },
        "id": "casual-florida",
        "outputId": "030b6663-dc26-4ce7-8b00-031d8e178c51"
      },
      "outputs": [],
      "source": [
        "mymodel.intercept_"
      ]
    },
    {
      "cell_type": "code",
      "execution_count": null,
      "id": "immediate-turkish",
      "metadata": {
        "colab": {
          "base_uri": "https://localhost:8080/"
        },
        "id": "immediate-turkish",
        "outputId": "8c4370a6-2221-4b78-d3c9-1ff541d69d42"
      },
      "outputs": [],
      "source": [
        "#116.66950551*5000 + 18756.28806982*5 + (-3675.75111708*10) + 231586.00639409182\n",
        "\n",
        "mymodel.predict([[3000,4,15]])"
      ]
    },
    {
      "cell_type": "code",
      "execution_count": null,
      "id": "following-swimming",
      "metadata": {
        "colab": {
          "base_uri": "https://localhost:8080/"
        },
        "id": "following-swimming",
        "outputId": "52cc61b6-eda2-4a09-fb2a-4f017ead2769"
      },
      "outputs": [],
      "source": [
        "116.66950551*5000 + 18756.28806982*5 + (-3675.75111708*10) + 231586.00639409182"
      ]
    },
    {
      "cell_type": "code",
      "execution_count": null,
      "id": "viral-region",
      "metadata": {
        "colab": {
          "base_uri": "https://localhost:8080/"
        },
        "id": "viral-region",
        "outputId": "8a30c65b-dcfc-4b12-db4f-029911f99ba6"
      },
      "outputs": [],
      "source": [
        "from sklearn.metrics import mean_squared_error\n",
        "mean_squared_error([565000],[601483.40843428],squared=False)"
      ]
    },
    {
      "cell_type": "code",
      "execution_count": null,
      "id": "alternate-struggle",
      "metadata": {
        "id": "alternate-struggle"
      },
      "outputs": [],
      "source": []
    }
  ],
  "metadata": {
    "colab": {
      "provenance": []
    },
    "kernelspec": {
      "display_name": "Python 3",
      "language": "python",
      "name": "python3"
    },
    "language_info": {
      "codemirror_mode": {
        "name": "ipython",
        "version": 3
      },
      "file_extension": ".py",
      "mimetype": "text/x-python",
      "name": "python",
      "nbconvert_exporter": "python",
      "pygments_lexer": "ipython3",
      "version": "3.8.0"
    }
  },
  "nbformat": 4,
  "nbformat_minor": 5
}
